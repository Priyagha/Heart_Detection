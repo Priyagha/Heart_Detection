{
 "cells": [
  {
   "cell_type": "code",
   "execution_count": 1,
   "metadata": {},
   "outputs": [],
   "source": [
    "from pathlib import Path \n",
    "import torch\n",
    "import numpy as np\n",
    "import pandas as pd\n",
    "import imgaug\n",
    "from imgaug.augmentables.bbs import BoundingBox\n",
    "import matplotlib.pyplot as plt"
   ]
  },
  {
   "cell_type": "code",
   "execution_count": 2,
   "metadata": {},
   "outputs": [],
   "source": [
    "class CardiacDataset(torch.utils.data.Dataset):\n",
    "    def __init__(self, labels_csv, patient_ids, path_to_images, mean, std):\n",
    "        self.labels_csv = pd.read_csv(labels_csv)\n",
    "        self.patient_ids = np.load(patient_ids)\n",
    "        self.path_to_images = Path(path_to_images)\n",
    "        self.mean = mean\n",
    "        self.std = std\n",
    "\n",
    "    def __getitem__(self, idx):\n",
    "        patient_id = self.patient_ids[idx]\n",
    "        patient_data = self.labels_csv[self.labels_csv[\"name\"] == patient_id]\n",
    "        x_min = patient_data[\"x0\"].item()\n",
    "        y_min = patient_data[\"y0\"].item()\n",
    "        x_max = x_min + patient_data[\"w\"].item()\n",
    "        y_max = y_min + patient_data[\"h\"].item()\n",
    "\n",
    "        image_path = self.path_to_images/patient_id\n",
    "        image = np.load(f\"{image_path}.npy\").astype(np.float32)\n",
    "        image = (image-self.mean)/(self.std)\n",
    "        image = torch.tensor(image).unsqueeze(0)\n",
    "\n",
    "        return image, torch.tensor((x_min, y_min, x_max, y_max))\n",
    "    \n",
    "    def __len__(self):\n",
    "        return len(self.patient_ids)"
   ]
  },
  {
   "cell_type": "code",
   "execution_count": 3,
   "metadata": {},
   "outputs": [],
   "source": [
    "cdata = CardiacDataset(\"rsna_heart_detection.csv\",\"train_subjects.npy\",Path(\"Processed_Heart_Detection/train\"), 0.49, 0.25)"
   ]
  },
  {
   "cell_type": "code",
   "execution_count": null,
   "metadata": {},
   "outputs": [],
   "source": []
  }
 ],
 "metadata": {
  "kernelspec": {
   "display_name": "Python 3",
   "language": "python",
   "name": "python3"
  },
  "language_info": {
   "codemirror_mode": {
    "name": "ipython",
    "version": 3
   },
   "file_extension": ".py",
   "mimetype": "text/x-python",
   "name": "python",
   "nbconvert_exporter": "python",
   "pygments_lexer": "ipython3",
   "version": "3.10.9"
  }
 },
 "nbformat": 4,
 "nbformat_minor": 2
}
